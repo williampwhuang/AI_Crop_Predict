{
  "nbformat": 4,
  "nbformat_minor": 0,
  "metadata": {
    "colab": {
      "name": "KHH-retailprice_crawler.ipynb",
      "provenance": [],
      "collapsed_sections": []
    },
    "kernelspec": {
      "name": "python3",
      "display_name": "Python 3"
    },
    "language_info": {
      "name": "python"
    }
  },
  "cells": [
    {
      "cell_type": "code",
      "metadata": {
        "id": "CZC_CRoBUIJm"
      },
      "source": [
        "import requests\n",
        "import json\n",
        "import os\n",
        "import pandas as pd\n",
        "import csv\n",
        "from bs4 import BeautifulSoup\n",
        "import numpy as np\n",
        "import time"
      ],
      "execution_count": null,
      "outputs": []
    },
    {
      "cell_type": "markdown",
      "metadata": {
        "id": "Ic2kvBxQI07b"
      },
      "source": [
        "針對 高雄公有蔬果零售價格進行查詢及爬取\n",
        "https://96kuas.kcg.gov.tw/prices/market.qd1.php"
      ]
    },
    {
      "cell_type": "markdown",
      "metadata": {
        "id": "cYW5v6O4JG61"
      },
      "source": [
        "原始資訊取得"
      ]
    },
    {
      "cell_type": "code",
      "metadata": {
        "id": "ORu2zat6UYY3"
      },
      "source": [
        "def url_get(year, month, day):\n",
        "    headers = {'cookie':'Test', \n",
        "          'User-Agent':'Mozilla/5.0 (Windows NT 10.0; Win64; x64; rv:89.0) Gecko/20100101 Firefox/89.0'}\n",
        "    url = 'https://96kuas.kcg.gov.tw/prices/market.qd1.php'\n",
        "    params={'tclassSel':\"0全部資料\",\n",
        "            'yy':f'{year}',\n",
        "            'mm':f'{month}',\n",
        "            'dd':f'{day}',\n",
        "            'subm':\"開始查詢\"}\n",
        "    resp = requests.post(url, headers=headers, params=params)\n",
        "    resp.encoding = 'utf-8'\n",
        "    data = BeautifulSoup(resp.text, 'html.parser')\n",
        "    date_time = f'{year+1911}-{month}-{day}'\n",
        "    return data, date_time"
      ],
      "execution_count": null,
      "outputs": []
    },
    {
      "cell_type": "markdown",
      "metadata": {
        "id": "So0iMgXtJNlS"
      },
      "source": [
        "html解碼"
      ]
    },
    {
      "cell_type": "code",
      "metadata": {
        "id": "AgMTePxNefTc"
      },
      "source": [
        "def html_decode():\n",
        "    a = data.body.div.find_all('div')[1]\n",
        "    b = a.find_all('table')[1]\n",
        "    main_inf = b.find_all('tr') # list 型態  從[2]開始有蔬菜到[??]有夾雜其他欄位資訊 要剔除\n",
        "    return main_inf"
      ],
      "execution_count": null,
      "outputs": []
    },
    {
      "cell_type": "markdown",
      "metadata": {
        "id": "3UsMTsQFJNEu"
      },
      "source": [
        "由html解碼後的資訊中取得 蔬果價格列表"
      ]
    },
    {
      "cell_type": "code",
      "metadata": {
        "id": "oDITzaQX1J2m"
      },
      "source": [
        "def market_name():\n",
        "    market_name_list = []\n",
        "    for i in range(1, len(main_inf[0].find_all('td'))):\n",
        "        market_name_list.append(main_inf[0].find_all('td')[i].contents[0])\n",
        "    return market_name_list\n",
        "def columns_name():\n",
        "    market_name_list = market_name()\n",
        "    columns_list = market_name_list\n",
        "    columns_list.insert(0, '日期')\n",
        "    return columns_list"
      ],
      "execution_count": null,
      "outputs": []
    },
    {
      "cell_type": "markdown",
      "metadata": {
        "id": "7Nuj_OypJ1J2"
      },
      "source": [
        "整理蔬果列表後  存為np "
      ]
    },
    {
      "cell_type": "code",
      "metadata": {
        "id": "7eplYJf99LvD"
      },
      "source": [
        "def item_extract(n):\n",
        "    item_names = []\n",
        "    price_lists = []\n",
        "    pl = []\n",
        "    for i in range(len(main_inf[n].find_all('td'))):\n",
        "        if i == 0:\n",
        "            item_names.append(main_inf[n].find_all('td')[i].contents)\n",
        "        else:\n",
        "            price_lists.append(main_inf[n].find_all('td')[i].contents)\n",
        "    for i in price_lists:\n",
        "        if i == []:\n",
        "            i = None\n",
        "            pl.append(i)\n",
        "        else:\n",
        "            i = i[0] \n",
        "            pl.append(i)\n",
        "    price_lists = pl\n",
        "    price_lists.insert(0, date_time)\n",
        "    return item_names, price_lists\n",
        "\n",
        "def inf_get():\n",
        "    item = []\n",
        "    price = []\n",
        "\n",
        "    for n in range(2, len(main_inf)):\n",
        "        if  main_inf[n].find_all('td')[0].contents[0].find('\\n') != -1:\n",
        "            continue\n",
        "        item_names, price_lists = item_extract(n)\n",
        "        item.append(item_names)\n",
        "        price.append(price_lists)\n",
        "    return item, price\n",
        "\n",
        "def set_table():\n",
        "    item, price= inf_get()\n",
        "    item = np.array(item).reshape(-1)\n",
        "    market_df = pd.DataFrame(price)\n",
        "    market_df.columns = columns_name()\n",
        "    market_df.insert(0, '品項', pd.DataFrame(item))\n",
        "    retail_market_1day = np.array(market_df)    \n",
        "    return retail_market_1day, market_df\n"
      ],
      "execution_count": null,
      "outputs": []
    },
    {
      "cell_type": "markdown",
      "metadata": {
        "id": "Xl_WS4EGPJTe"
      },
      "source": [
        "# 實際執行程式"
      ]
    },
    {
      "cell_type": "code",
      "metadata": {
        "colab": {
          "base_uri": "https://localhost:8080/"
        },
        "id": "80olMPIF-Mf-",
        "outputId": "ea2c4370-da15-472b-e8cb-5fdbd5447464"
      },
      "source": [
        "# 先存入一日之資訊，做為之後爬蟲資料儲存的參數\n",
        "data, date_time = url_get(107, 12, 31)\n",
        "main_inf = html_decode()\n",
        "retail_market_1day, market_df = set_table()\n",
        "retail_market = np.array([])\n",
        "\n",
        "# 將109-110年的網站資訊全數抓下\n",
        "for y in range(108, 109): \n",
        "    for m in range(1, 13): # 1-12月\n",
        "        if m in [1, 3, 5, 7, 8, 10, 12]:\n",
        "            md = 31\n",
        "        elif m in [4, 6, 9, 11]: \n",
        "            md = 30\n",
        "        else: # 閏年29 平年28\n",
        "            if (y+1911)%4 == 0:\n",
        "                md = 29\n",
        "            else:\n",
        "                md = 28\n",
        "                        \n",
        "        for d in range(1, md+1):  \n",
        "            data, date_time = url_get(y, m, d)\n",
        "            main_inf = html_decode()\n",
        "\n",
        "            if retail_market.shape[0] < 252:\n",
        "                retail_market = np.concatenate([retail_market_1day, set_table()[0]])  \n",
        "            else:\n",
        "                retail_market = np.concatenate([retail_market, set_table()[0]])  \n",
        "            time.sleep(1)\n",
        "retail_market.shape"
      ],
      "execution_count": null,
      "outputs": [
        {
          "output_type": "execute_result",
          "data": {
            "text/plain": [
              "(46116, 17)"
            ]
          },
          "metadata": {
            "tags": []
          },
          "execution_count": 6
        }
      ]
    },
    {
      "cell_type": "code",
      "metadata": {
        "id": "6F53IJtlF0SV"
      },
      "source": [
        "with open('market_menu.csv', 'w', encoding='utf-8', newline='') as f1:\n",
        "    writer = csv.writer(f1)\n",
        "    writer.writerow(list(market_df.columns))\n",
        "    for i in retail_market:\n",
        "        writer.writerow(i)\n"
      ],
      "execution_count": null,
      "outputs": []
    }
  ]
}